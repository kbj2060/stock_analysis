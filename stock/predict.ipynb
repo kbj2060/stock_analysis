{
 "cells": [
  {
   "cell_type": "code",
   "execution_count": 55,
   "outputs": [],
   "source": [
    "import pandas as pd\n",
    "import matplotlib.pyplot as plt\n",
    "from keras.layers.core import Dense, Dropout\n",
    "from keras.layers.recurrent import LSTM\n",
    "from keras.models import Sequential\n",
    "import numpy as np\n",
    "import keras\n",
    "from keras.models import model_from_json\n",
    "from sklearn.preprocessing import MinMaxScaler"
   ],
   "metadata": {
    "collapsed": false,
    "pycharm": {
     "name": "#%%\n"
    }
   }
  },
  {
   "cell_type": "code",
   "execution_count": 56,
   "outputs": [],
   "source": [
    "BATCH_SIZE = 5\n",
    "TIME_STEPS = 20\n",
    "FEATURES_COUNT = 11\n",
    "EPOCH = 15\n",
    "TRAIN_NUM = 1000\n",
    "VALIDATION_NUM = 250\n",
    "TEST_NUM = 250\n",
    "SUBJECT = \"부광약품\"\n",
    "\n",
    "def normalize_dataframe(df):\n",
    "    for column in df:\n",
    "        window = df[column].values.reshape(-1, 1)\n",
    "        min_v = min(window)\n",
    "        normalized_window = np.array([((float(p) / float(min_v)) - 1) for p in window]).reshape(len(df), 1)\n",
    "        df[column] = normalized_window\n",
    "    return df\n",
    "\n",
    "def denormalize(arr, fit):\n",
    "    arr = np.array(arr).reshape(1,-1)\n",
    "    min_v = min(fit)\n",
    "    denormalized = [ (i+1) * min_v for i in arr]\n",
    "    return denormalized\n",
    "\n",
    "def diff_to_percent(stock):\n",
    "    res = []\n",
    "    diff = stock['Diff'].values.reshape(-1,1)\n",
    "    close = stock['Close'].values.reshape(-1,1)\n",
    "    for i in range(len(diff)):\n",
    "        if i == 0:\n",
    "            res.append([0])\n",
    "            continue\n",
    "        res.append((close[i]-close[i-1])/close[i-1] *100)\n",
    "    res = np.array(res)\n",
    "    return res.flatten()\n",
    "\n",
    "def create_dataset(data):\n",
    "    dataY = []\n",
    "    dataX = []\n",
    "    for i in range(len(data)-TIME_STEPS):\n",
    "        dataX.append(data[i:(i+TIME_STEPS), :FEATURES_COUNT])\n",
    "        dataY.append(data[i + TIME_STEPS, -1]) # loc of Diff\n",
    "    return np.array(dataX), np.array(dataY)\n",
    "\n",
    "def adjust_index(small, big, col_idx, num):\n",
    "    big.index = [ a[:7] for a in big.index]\n",
    "\n",
    "    for c in small.columns:\n",
    "        big[c]= small[c]\n",
    "\n",
    "    for i, s in enumerate(small.index):\n",
    "        if i == 0:\n",
    "            start = 0\n",
    "        df_small = small.loc[s].to_frame().T\n",
    "        num = len([b for b in big.index if b == s])\n",
    "        big.iloc[start:start+num, col_idx:col_idx+num+1] = df_small\n",
    "        start += num\n",
    "    return big\n",
    "\n",
    "def remove_str_from_row(string, row, cols):\n",
    "    for col in cols:\n",
    "        row[col] = float(row[col].replace(string, ''))\n",
    "    return row\n",
    "\n",
    "stock = pd.read_csv('./stock/{s}/{s}.csv'.format(s=SUBJECT))\n",
    "stock.columns = ['Date', 'Close','Open', 'High', 'Low', 'Volume', 'IndividualBuying','ForeignerBuying','InstitutionBuying', 'ForeignerHolding', 'InstitutionHolding', 'Diff','Change' ]\n",
    "stock = stock.set_index('Date').dropna()\n",
    "stock['Diff'] = [d[-2] * -1 if d[-1] == 'FALL' or d[-1] == 'LOWER_LIMIT' else d[-2] for d in stock.values ]\n",
    "stock = stock.drop(['Change'], axis=1)\n",
    "stock = stock.sort_index()\n",
    "stock['Diff'] = diff_to_percent(stock)"
   ],
   "metadata": {
    "collapsed": false,
    "pycharm": {
     "name": "#%%\n"
    }
   }
  },
  {
   "cell_type": "code",
   "execution_count": 57,
   "outputs": [],
   "source": [
    "stock = stock[['Diff','Open','High','Low','Volume', 'IndividualBuying', 'ForeignerBuying', 'InstitutionBuying', 'ForeignerHolding', 'InstitutionHolding','Close']]\n",
    "cp_stock = stock.copy()\n",
    "stock = normalize_dataframe(stock)\n",
    "stock = stock.fillna(method='ffill')\n"
   ],
   "metadata": {
    "collapsed": false,
    "pycharm": {
     "name": "#%%\n"
    }
   }
  },
  {
   "cell_type": "code",
   "execution_count": 58,
   "outputs": [],
   "source": [
    "\n",
    "train = stock[0:TRAIN_NUM]\n",
    "val = stock[TRAIN_NUM:TRAIN_NUM+VALIDATION_NUM]\n",
    "test = stock[TRAIN_NUM+VALIDATION_NUM:]"
   ],
   "metadata": {
    "collapsed": false,
    "pycharm": {
     "name": "#%%\n"
    }
   }
  },
  {
   "cell_type": "code",
   "execution_count": 59,
   "outputs": [],
   "source": [
    "# In[7]:\n",
    "\n",
    "\n",
    "x_train, y_train = create_dataset(train.to_numpy())\n",
    "x_val, y_val = create_dataset(val.to_numpy())\n",
    "x_test, y_test = create_dataset(test.to_numpy())\n",
    "\n",
    "\n",
    "# In[8]:\n",
    "\n",
    "\n",
    "x_train = np.reshape(x_train, (x_train.shape[0], x_train.shape[1], FEATURES_COUNT))\n",
    "x_val = np.reshape(x_val, (x_val.shape[0], x_val.shape[1], FEATURES_COUNT))\n",
    "x_test = np.reshape(x_test, (x_test.shape[0], x_test.shape[1], FEATURES_COUNT))"
   ],
   "metadata": {
    "collapsed": false,
    "pycharm": {
     "name": "#%%\n"
    }
   }
  },
  {
   "cell_type": "code",
   "execution_count": 60,
   "outputs": [],
   "source": [
    "json_file = open(\"부광약품_model\", \"r\")\n",
    "loaded_model_json = json_file.read()\n",
    "loaded_model = model_from_json(loaded_model_json)\n",
    "loaded_model.load_weights(\"./stock/{s}/{s}_weight\".format(s=SUBJECT))"
   ],
   "metadata": {
    "collapsed": false,
    "pycharm": {
     "name": "#%%\n"
    }
   }
  },
  {
   "cell_type": "code",
   "execution_count": 61,
   "outputs": [
    {
     "name": "stdout",
     "output_type": "stream",
     "text": [
      "Model: \"sequential_1\"\n",
      "_________________________________________________________________\n",
      "Layer (type)                 Output Shape              Param #   \n",
      "=================================================================\n",
      "lstm_1 (LSTM)                (5, 20, 64)               19456     \n",
      "_________________________________________________________________\n",
      "dropout_1 (Dropout)          (5, 20, 64)               0         \n",
      "_________________________________________________________________\n",
      "lstm_2 (LSTM)                (5, 64)                   33024     \n",
      "_________________________________________________________________\n",
      "dropout_2 (Dropout)          (5, 64)                   0         \n",
      "_________________________________________________________________\n",
      "dense_1 (Dense)              (5, 1)                    65        \n",
      "=================================================================\n",
      "Total params: 52,545\n",
      "Trainable params: 52,545\n",
      "Non-trainable params: 0\n",
      "_________________________________________________________________\n"
     ]
    }
   ],
   "source": [
    "loaded_model.summary()"
   ],
   "metadata": {
    "collapsed": false,
    "pycharm": {
     "name": "#%%\n"
    }
   }
  },
  {
   "cell_type": "code",
   "execution_count": 62,
   "outputs": [],
   "source": [
    "pred = loaded_model.predict(x_test[-BATCH_SIZE:], batch_size=BATCH_SIZE)\n"
   ],
   "metadata": {
    "collapsed": false,
    "pycharm": {
     "name": "#%%\n"
    }
   }
  },
  {
   "cell_type": "code",
   "execution_count": 63,
   "outputs": [
    {
     "data": {
      "text/plain": "<Figure size 864x360 with 1 Axes>",
      "image/png": "[encoded data removed]"
     },
     "metadata": {
      "needs_background": "light"
     },
     "output_type": "display_data"
    }
   ],
   "source": [
    "y_t = list(y_test.reshape(1,-1))[0]\n",
    "p = list(pred.reshape(1,-1)[0])\n",
    "c = np.hstack([y_t, p])\n",
    "plt.figure(figsize=(12, 5))\n",
    "plt.plot( c, 'r', label=\"prediction\")\n",
    "plt.plot(y_test, label=\"answer\")\n",
    "plt.grid(b=True, which='both', axis='both')\n",
    "plt.legend()\n",
    "plt.show()\n",
    "plt.close()"
   ],
   "metadata": {
    "collapsed": false,
    "pycharm": {
     "name": "#%%\n"
    }
   }
  },
  {
   "cell_type": "code",
   "execution_count": 67,
   "outputs": [
    {
     "name": "stdout",
     "output_type": "stream",
     "text": [
      "12550.0\n",
      "[array([19650., 19400., 19400., 19000., 19200., 18850., 17900., 17850.,\n",
      "       17550., 17500., 17750., 17550., 17350., 17050., 17200., 16700.,\n",
      "       16000., 16200., 16400., 16450., 16300., 16600., 16450., 16450.,\n",
      "       16700., 16700., 17050., 16850., 16550., 16400., 15900., 15700.,\n",
      "       15400., 15900., 15400., 13400., 12900., 13150., 13700., 13700.,\n",
      "       14000., 13800., 13850., 13850., 13800., 14150., 14250., 14400.,\n",
      "       13900., 13350., 13150., 13850., 13650., 13900., 14200., 14050.,\n",
      "       14200., 14100., 14000., 13900., 13950., 14100., 14250., 14650.,\n",
      "       14800., 14550., 14700., 14450., 14550., 14250., 14050., 13600.,\n",
      "       13850., 14200., 13800., 13800., 14200., 14100., 13650., 13750.,\n",
      "       14200., 14400., 14700., 14500., 14500., 14150., 14550., 14800.,\n",
      "       14550., 14300., 14400., 14450., 14500., 14600., 14550., 15150.,\n",
      "       15000., 15250., 15200., 15500., 15250., 15100., 14700., 14900.,\n",
      "       15050., 15150., 14850., 14500., 14350., 14600., 14800., 15100.,\n",
      "       14950., 14850., 14600., 14750., 14600., 14700., 14450., 14600.,\n",
      "       14400., 14100., 14000., 14300., 14400., 14250., 14200., 14100.,\n",
      "       14250., 14200., 14550., 14600., 14950., 14200., 14350., 14050.,\n",
      "       13800., 12950., 13050., 13200., 13800., 13800., 14250., 14250.,\n",
      "       14300., 14150., 14500., 14750., 14750., 15000., 14850., 14400.,\n",
      "       14250., 14000., 13750., 13600., 13900., 14000., 14450., 14400.,\n",
      "       14450., 14300., 14150., 14050., 13850., 13800., 13550., 13600.,\n",
      "       13450., 13800., 12800., 13100., 13250., 13100., 12550., 13150.,\n",
      "       13200., 13250., 14300., 14650., 14550., 18900., 17000., 15800.,\n",
      "       16600., 15400., 16500., 14950., 17000., 17700., 16850., 17700.,\n",
      "       17800., 18450., 17650., 19500., 25350., 23550., 22750., 23700.,\n",
      "       26050., 24050., 22950., 24000., 24300., 22250., 27700., 29700.,\n",
      "       27650., 28250., 28550., 27850., 28300., 27500., 26550., 27100.,\n",
      "       26100., 24550., 24650., 23900., 24450., 24350., 27600., 26250.,\n",
      "       26650., 27050., 29150., 27000., 27050., 27100.])]\n",
      "5\n"
     ]
    }
   ],
   "source": [
    "print(denormalize(y_t, cp_stock['Close']))\n",
    "print(len(p))"
   ],
   "metadata": {
    "collapsed": false,
    "pycharm": {
     "name": "#%%\n"
    }
   }
  },
  {
   "cell_type": "code",
   "execution_count": 64,
   "outputs": [],
   "source": [
    "\n"
   ],
   "metadata": {
    "collapsed": false,
    "pycharm": {
     "name": "#%%\n"
    }
   }
  }
 ],
 "metadata": {
  "kernelspec": {
   "display_name": "Python 3",
   "language": "python",
   "name": "python3"
  },
  "language_info": {
   "codemirror_mode": {
    "name": "ipython",
    "version": 2
   },
   "file_extension": ".py",
   "mimetype": "text/x-python",
   "name": "python",
   "nbconvert_exporter": "python",
   "pygments_lexer": "ipython2",
   "version": "2.7.6"
  }
 },
 "nbformat": 4,
 "nbformat_minor": 0
}