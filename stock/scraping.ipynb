{
 "cells": [
  {
   "cell_type": "code",
   "execution_count": null,
   "outputs": [],
   "source": [],
   "metadata": {
    "collapsed": false,
    "pycharm": {
     "name": "#%%\n"
    }
   }
  },
  {
   "cell_type": "code",
   "execution_count": null,
   "outputs": [],
   "source": [
    "import requests\n",
    "import traceback\n",
    "import pandas as pd\n",
    "from bs4 import BeautifulSoup\n",
    "from datetime import datetime\n",
    "import json\n",
    "import time\n",
    "import FinanceDataReader as fdr\n",
    "import os\n",
    "from tqdm import tqdm\n",
    "import random"
   ],
   "metadata": {
    "collapsed": false,
    "pycharm": {
     "name": "#%%\n"
    }
   }
  },
  {
   "cell_type": "code",
   "execution_count": null,
   "outputs": [],
   "source": [
    "# 한국거래소 상장종목 전체\n",
    "df_krx = fdr.StockListing('KRX')\n",
    "codes = df_krx['Symbol']\n",
    "keywords = df_krx['Name']\n",
    "errors = []"
   ],
   "metadata": {
    "collapsed": false,
    "pycharm": {
     "name": "#%%\n"
    }
   }
  },
  {
   "cell_type": "code",
   "execution_count": null,
   "outputs": [],
   "source": [
    "def get_last_page(code, url, site, daum_headers=None):\n",
    "    if site == \"naver\":\n",
    "        res = requests.get(url)\n",
    "        res.encoding = 'utf-8'\n",
    "        soap = BeautifulSoup(res.text)\n",
    "        el_table_navi = soap.find(\"table\", class_=\"Nnavi\")\n",
    "        el_td_last = el_table_navi.find(\"td\", class_=\"pgRR\")\n",
    "        pg_last = el_td_last.a.get('href').rsplit('&')[1]\n",
    "        pg_last = pg_last.split('=')[1]\n",
    "        pg_last = int(pg_last)\n",
    "        return pg_last\n",
    "    elif site == \"daum\":\n",
    "        res = requests.get(url, headers=daum_headers)\n",
    "        data = json.loads(res.text)\n",
    "        total_pages = data['totalPages']\n",
    "        return total_pages"
   ],
   "metadata": {
    "collapsed": false,
    "pycharm": {
     "name": "#%%\n"
    }
   }
  },
  {
   "cell_type": "code",
   "execution_count": null,
   "outputs": [],
   "source": [
    "def parse_naver_page(code, page):\n",
    "    try:\n",
    "        url = 'http://finance.naver.com/item/sise_day.nhn?code={code}&page={page}'.format(code=code, page=page)\n",
    "        res = requests.get(url)\n",
    "        _soap = BeautifulSoup(res.text)\n",
    "        _df = pd.read_html(str(_soap.find(\"table\")), header=0)[0]\n",
    "        _df = _df.dropna()\n",
    "        df = _df.drop(['전일비'], axis=1)\n",
    "        df['날짜'] = pd.to_datetime(df['날짜'], format='%Y-%m-%d')\n",
    "        df = df.set_index('날짜')\n",
    "        return df\n",
    "    except Exception as e:\n",
    "        traceback.print_exc()\n",
    "    return None"
   ],
   "metadata": {
    "collapsed": false,
    "pycharm": {
     "name": "#%%\n"
    }
   }
  },
  {
   "cell_type": "code",
   "execution_count": null,
   "outputs": [],
   "source": [
    "def parse_daum_page(code, page, daum_headers):\n",
    "    url = 'https://finance.daum.net/api/investor/days?symbolCode=A{code}&perPage=10&page={page}&pagination=true'.format(code=code, page=page)\n",
    "    res = requests.get(url, headers=daum_headers)\n",
    "    if \"<!DOCTYPE html>\" in res.text:\n",
    "        return None\n",
    "    try:\n",
    "        data = json.loads(res.text)\n",
    "    except:\n",
    "        print(res.text)\n",
    "    _df = pd.DataFrame.from_dict(data['data'])\n",
    "    if _df.empty:\n",
    "        return pd.DataFrame()\n",
    "    _df = _df.drop(['foreignOwnShares', 'tradePrice', 'accTradePrice','accTradeVolume'], axis=1)\n",
    "    _df.columns = ['날짜', '외국인보유', '외국인순매수', '기관순매수','기관보유량','전일비','변화']\n",
    "    _df['개인순매수'] = -(_df['외국인순매수'] + _df['기관순매수'])\n",
    "    _df = _df[['날짜','개인순매수','외국인순매수','기관순매수','외국인보유','기관보유량','전일비','변화']]\n",
    "    _df['날짜'] = pd.to_datetime(_df['날짜'], format='%Y-%m-%d', errors='ignore')\n",
    "    df = _df.set_index('날짜')\n",
    "    time.sleep( random.uniform(0,1) )\n",
    "    return df"
   ],
   "metadata": {
    "collapsed": false,
    "pycharm": {
     "name": "#%%\n"
    }
   }
  },
  {
   "cell_type": "code",
   "execution_count": null,
   "outputs": [],
   "source": [
    "def get_data(code, end, site, start=1, daum_headers=None):\n",
    "    if site == \"naver\":\n",
    "        for page in range(start, end+1):\n",
    "            if page == 1:\n",
    "                naver_df = parse_naver_page(code, page)\n",
    "                continue\n",
    "            try:\n",
    "                naver_df = naver_df.append(parse_naver_page(code, page))\n",
    "                time.sleep(0.1)\n",
    "            except:\n",
    "                continue\n",
    "        return naver_df\n",
    "    elif site == \"daum\":\n",
    "        for page in range(start, end+1):\n",
    "            if page == 1:\n",
    "                daum_df = parse_daum_page(code, page, daum_headers)\n",
    "                continue\n",
    "            df = parse_daum_page(code, page, daum_headers)\n",
    "            if df is None:\n",
    "                return pd.DataFrame()\n",
    "            daum_df = daum_df.append(df)\n",
    "        return daum_df"
   ],
   "metadata": {
    "collapsed": false,
    "pycharm": {
     "name": "#%%\n"
    }
   }
  },
  {
   "cell_type": "code",
   "execution_count": null,
   "outputs": [],
   "source": [
    "def make_csv(keyword):\n",
    "    outname = '{keyword}.csv'.format(keyword=keyword)\n",
    "    outdir = './stock/{keyword}/'.format(keyword=keyword)\n",
    "    if not os.path.exists(outdir):\n",
    "        os.makedirs(outdir)\n",
    "    fullname = os.path.join(outdir, outname)\n",
    "    return fullname\n",
    "\n",
    "def make_path(keyword):\n",
    "    outdir = './stock/{keyword}/'.format(keyword=keyword)\n",
    "    if not os.path.exists(outdir):\n",
    "        os.makedirs(outdir)\n",
    "    fullname = os.path.join(outdir, outname)\n",
    "    return fullname"
   ],
   "metadata": {
    "collapsed": false,
    "pycharm": {
     "name": "#%%\n"
    }
   }
  },
  {
   "cell_type": "code",
   "execution_count": null,
   "outputs": [],
   "source": [
    "def make_result(code, keyword, naver_url, daum_url, daum_headers, batch):\n",
    "    daum_data = get_data(code, batch, \"daum\", daum_headers=daum_headers)\n",
    "    if daum_data.empty:\n",
    "        return None\n",
    "    naver_data = get_data(code, batch, \"naver\")\n",
    "    if naver_data.empty:\n",
    "        return None\n",
    "    naver_data = naver_data.drop_duplicates()\n",
    "    daum_data = daum_data.drop_duplicates()\n",
    "    data = pd.concat([naver_data, daum_data], axis=1)\n",
    "    start_year = data.index[-1].year\n",
    "    start_month = data.index[-1].month\n",
    "    now = datetime.today()\n",
    "    current_year = now.year\n",
    "    current_month = now.month\n",
    "    data.to_csv(make_csv(keyword))\n",
    "    return 1"
   ],
   "metadata": {
    "collapsed": false,
    "pycharm": {
     "name": "#%%\n"
    }
   }
  },
  {
   "cell_type": "code",
   "execution_count": null,
   "outputs": [],
   "source": [
    "def assign_vars(code):\n",
    "    daum_headers = {\n",
    "        'accept': \"application/json, text/javascript, */*; q=0.01\",\n",
    "        'accept-encoding': \"gzip, deflate, br\",\n",
    "        'accept-language': \"ko-KR,ko;q=0.9,en-US;q=0.8,en;q=0.7\",\n",
    "        'cookie': \"webid=9f4fbc3082f611eab9a5000af759d440; _TI_NID=iok9mjEFfnWoNqMjDA5hhUChXUxRg7L6mzkKMklqD4+kmSqh6byoM36vbqm6RbiYX91qkV5GBPqt/eECdHNLAQ==; KAKAO_STOCK_CHART_ENABLED_INDICATORS=[%22sma%22%2C%22column%22]; KAKAO_STOCK_VIEW_MODE=pc; _ga=GA1.2.366528297.1589976234; _gid=GA1.2.470386811.1589976234; recentMenus=[{%22destination%22:%22influential_investors%22%2C%22title%22:%22%EC%99%B8%EC%9D%B8%C2%B7%EA%B8%B0%EA%B4%80%22}%2C{%22destination%22:%22news%22%2C%22title%22:%22%EB%89%B4%EC%8A%A4%C2%B7%EA%B3%B5%EC%8B%9C%22}%2C{%22destination%22:%22talks%22%2C%22title%22:%22%ED%86%A0%EB%A1%A0%22}%2C{%22destination%22:%22analysis%22%2C%22title%22:%22%EA%B8%B0%EC%97%85%EC%A0%95%EB%B3%B4%22}%2C{%22destination%22:%22investments%22%2C%22title%22:%22%ED%88%AC%EC%9E%90%EC%A0%95%EB%B3%B4%22}%2C{%22destination%22:%22chart%22%2C%22title%22:%22%EC%B0%A8%ED%8A%B8%22}%2C{%22destination%22:%22current%22%2C%22title%22:%22%ED%98%84%EC%9E%AC%EA%B0%80%22}]; webid_sync=1590046704785; _gat_gtag_UA_128578811_1=1; TIARA=gUveTXN62di13WTZ6ubgXq9ugi2XccYvzEq_smTln1lvl6UYoyFlrdh8EzmTwO9HFthCzMY6PO1Hmm8FQ92RuTZEwg8AoSDe; KAKAO_STOCK_RECENT=[%22A000660%22%2C%22A338100%22%2C%22A046440%22%2C%22A322780%22%2C%22A035420%22%2C%22A003000%22]; _gat_gtag_UA_74989022_11=1; _dfs=b0lWTW9qdkcxQmlqbHBla3FiM0NwSDNJSXZyRVpJMU1MTEZobms3ck9MQzRUUnR6VUYrOTBBYVVLQmk2OEFwZit3SVBjYW4vZXRFQlRlcFA5Y1Jkanc9PS0tQzRhNmxhWE82UUNvMDV5RG1EWEgzdz09--472c53167ed367f80b417c7c3c665d2b4ffc2e4e\",\n",
    "        'referer': \"https://finance.daum.net/quotes/A{code}?view=pc\".format(code=code),\n",
    "        'sec-fetch-dest': \"empty\",\n",
    "        'sec-fetch-mode': \"cors\",\n",
    "        'sec-fetch-site': \"same-origin\",\n",
    "        'user-agent': \"Mozilla/5.0 (Macintosh; Intel Mac OS X 10_15_4) AppleWebKit/537.36 (KHTML, like Gecko) Chrome/81.0.4044.138 Safari/537.36\",\n",
    "        'x-requested-with': 'XMLHttpRequest'\n",
    "        }\n",
    "    naver_url = 'http://finance.naver.com/item/sise_day.nhn?code={code}'.format(code=code)\n",
    "    daum_url = 'https://finance.daum.net/api/investor/days?symbolCode=A{code}&perPage=10&page=1&pagination=true'.format(code=code)\n",
    "    return daum_headers, naver_url, daum_url\n"
   ],
   "metadata": {
    "collapsed": false,
    "pycharm": {
     "name": "#%%\n"
    }
   }
  },
  {
   "cell_type": "code",
   "execution_count": null,
   "outputs": [],
   "source": [
    "def check_search_result(keyword, daum_headers):\n",
    "    url = 'https://finance.daum.net/api/search/quotes?q={keyword}'.format(keyword=keyword)\n",
    "    res = requests.get(url, headers=daum_headers)\n",
    "    data = json.loads(res.text)\n",
    "    if data['quotes'] == None:\n",
    "        return 0\n",
    "    time.sleep(random.uniform(0, 1))\n",
    "    return 1"
   ],
   "metadata": {
    "collapsed": false,
    "pycharm": {
     "name": "#%%\n"
    }
   }
  },
  {
   "cell_type": "code",
   "execution_count": null,
   "outputs": [],
   "source": [
    "make_result()\n",
    "\"\"\"\n",
    "batch = 150\n",
    "idx = 1\n",
    "total = len(codes)\n",
    "for code, keyword in tqdm(zip(codes,keywords), total=len(codes)):\n",
    "    daum_headers, naver_url, daum_url = assign_vars(code)\n",
    "\n",
    "    if os.path.exists('./stock/{keyword}/'.format(keyword=keyword)):\n",
    "        continue\n",
    "    elif code in errors:\n",
    "        print('{keyword} has error.'.format(keword=keyword))\n",
    "        os.system('clear')\n",
    "        continue\n",
    "    elif not check_search_result(keyword, daum_headers):\n",
    "        continue\n",
    "\n",
    "    print('{code} {keyword} is processing...'.format(code=code, keyword=keyword))\n",
    "    success = make_result(code, keyword, naver_url, daum_url, daum_headers, batch)\n",
    "\n",
    "    if success == None:\n",
    "        print('{code} {keyword} error occured!'.format(code=code, keyword=keyword))\n",
    "        errors.append(code)\n",
    "    os.system('clear')\n",
    "\"\"\""
   ],
   "metadata": {
    "collapsed": false,
    "pycharm": {
     "name": "#%%\n"
    }
   }
  },
  {
   "cell_type": "code",
   "execution_count": null,
   "outputs": [],
   "source": [],
   "metadata": {
    "collapsed": false,
    "pycharm": {
     "name": "#%%\n"
    }
   }
  },
  {
   "cell_type": "code",
   "execution_count": null,
   "metadata": {
    "collapsed": true
   },
   "outputs": [],
   "source": [
    "\n"
   ]
  }
 ],
 "metadata": {
  "kernelspec": {
   "display_name": "Python 3",
   "language": "python",
   "name": "python3"
  },
  "language_info": {
   "codemirror_mode": {
    "name": "ipython",
    "version": 2
   },
   "file_extension": ".py",
   "mimetype": "text/x-python",
   "name": "python",
   "nbconvert_exporter": "python",
   "pygments_lexer": "ipython2",
   "version": "2.7.6"
  }
 },
 "nbformat": 4,
 "nbformat_minor": 0
}