{
 "cells": [
  {
   "cell_type": "code",
   "execution_count": 77,
   "outputs": [],
   "source": [
    "import predict\n",
    "import hyperparms\n",
    "import os\n",
    "import utils\n",
    "import pandas as pd\n",
    "import numpy as np\n",
    "\n",
    "\n",
    "os.chdir('/Users/llewyn/PycharmProjects/stock_analysis/')\n",
    "res = {}\n",
    "\n",
    "BATCH_SIZE, TIME_STEPS, FEATURES_COUNT, EPOCH, ITERATIONS, \\\n",
    "LSTM_UNITS, LEARNING_RATE, DROPOUT_SIZE  = \\\n",
    "hyperparms.BATCH_SIZE, hyperparms.TIME_STEPS, \\\n",
    "hyperparms.FEATURES_COUNT, hyperparms.EPOCH, \\\n",
    "hyperparms.ITERATIONS, hyperparms.LSTM_UNITS,\\\n",
    "hyperparms.LEARNING_RATE, hyperparms.DROPOUT_SIZE\n",
    "\n",
    "SUBJECT = sorted(os.listdir('stock/'))"
   ],
   "metadata": {
    "collapsed": false,
    "pycharm": {
     "name": "#%%\n"
    }
   }
  },
  {
   "cell_type": "code",
   "execution_count": 46,
   "outputs": [
    {
     "ename": "FileNotFoundError",
     "evalue": "[Errno 2] No such file or directory: 'stock/부광약품/부광약품_bs7ts15ep10it50lstm64_model'",
     "output_type": "error",
     "traceback": [
      "\u001B[0;31m---------------------------------------------------------------------------\u001B[0m",
      "\u001B[0;31mFileNotFoundError\u001B[0m                         Traceback (most recent call last)",
      "\u001B[0;32m<ipython-input-46-ab55d25dab52>\u001B[0m in \u001B[0;36m<module>\u001B[0;34m\u001B[0m\n\u001B[1;32m     18\u001B[0m \u001B[0;34m\u001B[0m\u001B[0m\n\u001B[1;32m     19\u001B[0m     \u001B[0mx_test\u001B[0m\u001B[0;34m,\u001B[0m \u001B[0my_test\u001B[0m \u001B[0;34m=\u001B[0m \u001B[0mutils\u001B[0m\u001B[0;34m.\u001B[0m\u001B[0mcreate_dataset\u001B[0m\u001B[0;34m(\u001B[0m\u001B[0mtest\u001B[0m\u001B[0;34m.\u001B[0m\u001B[0mto_numpy\u001B[0m\u001B[0;34m(\u001B[0m\u001B[0;34m)\u001B[0m\u001B[0;34m,\u001B[0m \u001B[0mTIME_STEPS\u001B[0m\u001B[0;34m,\u001B[0m \u001B[0mFEATURES_COUNT\u001B[0m\u001B[0;34m)\u001B[0m\u001B[0;34m\u001B[0m\u001B[0;34m\u001B[0m\u001B[0m\n\u001B[0;32m---> 20\u001B[0;31m     \u001B[0mmodel\u001B[0m \u001B[0;34m=\u001B[0m \u001B[0mutils\u001B[0m\u001B[0;34m.\u001B[0m\u001B[0mget_model_weight\u001B[0m\u001B[0;34m(\u001B[0m\u001B[0mBATCH_SIZE\u001B[0m\u001B[0;34m,\u001B[0m \u001B[0mTIME_STEPS\u001B[0m\u001B[0;34m,\u001B[0m \u001B[0mEPOCH\u001B[0m\u001B[0;34m,\u001B[0m \u001B[0mITERATIONS\u001B[0m\u001B[0;34m,\u001B[0m \u001B[0ms\u001B[0m\u001B[0;34m,\u001B[0m \u001B[0mLSTM_UNITS\u001B[0m\u001B[0;34m)\u001B[0m\u001B[0;34m\u001B[0m\u001B[0;34m\u001B[0m\u001B[0m\n\u001B[0m\u001B[1;32m     21\u001B[0m \u001B[0;34m\u001B[0m\u001B[0m\n\u001B[1;32m     22\u001B[0m     \u001B[0mfuture\u001B[0m \u001B[0;34m=\u001B[0m \u001B[0mmodel\u001B[0m\u001B[0;34m.\u001B[0m\u001B[0mpredict\u001B[0m\u001B[0;34m(\u001B[0m\u001B[0mx_test\u001B[0m\u001B[0;34m[\u001B[0m\u001B[0;34m-\u001B[0m\u001B[0mBATCH_SIZE\u001B[0m\u001B[0;34m:\u001B[0m\u001B[0;34m]\u001B[0m\u001B[0;34m,\u001B[0m \u001B[0mbatch_size\u001B[0m\u001B[0;34m=\u001B[0m\u001B[0mBATCH_SIZE\u001B[0m\u001B[0;34m)\u001B[0m\u001B[0;34m\u001B[0m\u001B[0;34m\u001B[0m\u001B[0m\n",
      "\u001B[0;32m~/PycharmProjects/stock_analysis/scripts/utils.py\u001B[0m in \u001B[0;36mget_model_weight\u001B[0;34m(BATCH_SIZE, TIME_STEPS, EPOCH, ITERATIONS, SUBJECT, LSTM_UNITS)\u001B[0m\n\u001B[1;32m     54\u001B[0m     \u001B[0;32mreturn\u001B[0m \u001B[0mdenormalized\u001B[0m\u001B[0;34m\u001B[0m\u001B[0;34m\u001B[0m\u001B[0m\n\u001B[1;32m     55\u001B[0m \u001B[0;34m\u001B[0m\u001B[0m\n\u001B[0;32m---> 56\u001B[0;31m \u001B[0;32mdef\u001B[0m \u001B[0mget_model_weight\u001B[0m\u001B[0;34m(\u001B[0m\u001B[0mBATCH_SIZE\u001B[0m\u001B[0;34m,\u001B[0m\u001B[0mTIME_STEPS\u001B[0m\u001B[0;34m,\u001B[0m \u001B[0mEPOCH\u001B[0m\u001B[0;34m,\u001B[0m \u001B[0mITERATIONS\u001B[0m\u001B[0;34m,\u001B[0m \u001B[0mSUBJECT\u001B[0m\u001B[0;34m,\u001B[0m \u001B[0mLSTM_UNITS\u001B[0m\u001B[0;34m)\u001B[0m\u001B[0;34m:\u001B[0m\u001B[0;34m\u001B[0m\u001B[0;34m\u001B[0m\u001B[0m\n\u001B[0m\u001B[1;32m     57\u001B[0m     \u001B[0mjson_file\u001B[0m \u001B[0;34m=\u001B[0m \u001B[0mopen\u001B[0m\u001B[0;34m(\u001B[0m\u001B[0;34m'/stock/{4}/{4}_bs{0}ts{1}ep{2}it{3}lstm{5}_model'\u001B[0m\u001B[0;34m.\u001B[0m\u001B[0mformat\u001B[0m\u001B[0;34m(\u001B[0m\u001B[0mBATCH_SIZE\u001B[0m\u001B[0;34m,\u001B[0m \u001B[0mTIME_STEPS\u001B[0m\u001B[0;34m,\u001B[0m \u001B[0mEPOCH\u001B[0m\u001B[0;34m,\u001B[0m \u001B[0mITERATIONS\u001B[0m\u001B[0;34m,\u001B[0m \u001B[0mSUBJECT\u001B[0m\u001B[0;34m,\u001B[0m \u001B[0mLSTM_UNITS\u001B[0m\u001B[0;34m)\u001B[0m\u001B[0;34m,\u001B[0m \u001B[0;34m'r'\u001B[0m\u001B[0;34m)\u001B[0m\u001B[0;34m\u001B[0m\u001B[0;34m\u001B[0m\u001B[0m\n\u001B[1;32m     58\u001B[0m     \u001B[0mmodel\u001B[0m \u001B[0;34m=\u001B[0m \u001B[0mjson_file\u001B[0m\u001B[0;34m.\u001B[0m\u001B[0mread\u001B[0m\u001B[0;34m(\u001B[0m\u001B[0;34m)\u001B[0m\u001B[0;34m\u001B[0m\u001B[0;34m\u001B[0m\u001B[0m\n",
      "\u001B[0;31mFileNotFoundError\u001B[0m: [Errno 2] No such file or directory: 'stock/부광약품/부광약품_bs7ts15ep10it50lstm64_model'"
     ]
    }
   ],
   "source": [
    "li = {}\n",
    "for s in SUBJECT:\n",
    "    #if len(os.listdir('./stock/{0}'.format(s))) == 1:\n",
    "    #    continue\n",
    "    csv = pd.read_csv('stock/{s}/{s}.csv'.format(s=s)).sort_index()\n",
    "    stock = utils.preprocess(csv)\n",
    "    denorm_stock = stock.copy()\n",
    "    denorm_stock.index = pd.to_datetime(denorm_stock.index)\n",
    "    stock = utils.normalize_dataframe(stock)\n",
    "    stock = stock.fillna(method='ffill')\n",
    "\n",
    "    TEST_NUM = (BATCH_SIZE * 10 + TIME_STEPS)\n",
    "    test = stock[-TEST_NUM:]\n",
    "\n",
    "    cut = (len(stock)-TIME_STEPS) % BATCH_SIZE\n",
    "    _stock = stock[cut:]\n",
    "    _denorm_stock = denorm_stock[cut:]\n",
    "\n",
    "    x_test, y_test = utils.create_dataset(test.to_numpy(), TIME_STEPS, FEATURES_COUNT)\n",
    "    model = utils.get_model_weight(BATCH_SIZE, TIME_STEPS, EPOCH, ITERATIONS, s, LSTM_UNITS)\n",
    "\n",
    "    future = model.predict(x_test[-BATCH_SIZE:], batch_size=BATCH_SIZE)\n",
    "    denorm_future = np.array(utils.denormalize(future, denorm_stock['Close'])).reshape(-1, 1)\n",
    "    inc = (future[-1] - future[0])/BATCH_SIZE\n",
    "\n",
    "    d = { s : inc}\n",
    "    li.update(d)"
   ],
   "metadata": {
    "collapsed": false,
    "pycharm": {
     "name": "#%%\n"
    }
   }
  },
  {
   "cell_type": "code",
   "execution_count": 78,
   "outputs": [
    {
     "name": "stdout",
     "output_type": "stream",
     "text": [
      "None\n"
     ]
    },
    {
     "data": {
      "text/plain": "[('CMG제약', array([-0.07518285], dtype=float32)),\n ('3S', array([-0.021985], dtype=float32)),\n ('EG', array([-0.01428044], dtype=float32)),\n ('CJ프레시웨이', array([-0.01251267], dtype=float32)),\n ('AK홀딩스', array([-0.01181487], dtype=float32)),\n ('GRT', array([-0.01135319], dtype=float32)),\n ('DB손해보험', array([-0.00841064], dtype=float32)),\n ('CJ우', array([-0.00784624], dtype=float32)),\n ('DMS', array([-0.00755104], dtype=float32)),\n ('BYC', array([-0.00714295], dtype=float32)),\n ('DB하이텍1우', array([-0.00696768], dtype=float32)),\n ('DI동일', array([-0.00690158], dtype=float32)),\n ('AP시스템', array([-0.0064557], dtype=float32)),\n ('BYC우', array([-0.00639757], dtype=float32)),\n ('CNH', array([-0.00605767], dtype=float32)),\n ('DSR', array([-0.00537944], dtype=float32)),\n ('CJ씨푸드', array([-0.00485412], dtype=float32)),\n ('DB', array([-0.00460065], dtype=float32)),\n ('CJ제일제당', array([-0.00352629], dtype=float32)),\n ('EMW', array([-0.00238781], dtype=float32)),\n ('DB하이텍', array([-0.0015534], dtype=float32)),\n ('GH신소재', array([-0.00086529], dtype=float32)),\n ('BGF', array([-0.0006128], dtype=float32)),\n ('CJ씨푸드1우', array([-0.0005987], dtype=float32)),\n ('AP위성', array([-0.00040985], dtype=float32)),\n ('F&F', array([0.], dtype=float32)),\n ('DB금융스팩7호', array([1.2968002e-06], dtype=float32)),\n ('AJ네트웍스', array([0.00018123], dtype=float32)),\n ('EDGC', array([0.00063842], dtype=float32)),\n ('DRB동일', array([0.00104892], dtype=float32)),\n ('E1', array([0.00119225], dtype=float32)),\n ('DSC인베스트먼트', array([0.0014192], dtype=float32)),\n ('CJ ENM', array([0.00177484], dtype=float32)),\n ('CJ CGV', array([0.0022675], dtype=float32)),\n ('DGB금융지주', array([0.00232571], dtype=float32)),\n ('BGF리테일', array([0.0026137], dtype=float32)),\n ('CS홀딩스', array([0.00282253], dtype=float32)),\n ('GS', array([0.00310269], dtype=float32)),\n ('DSR제강', array([0.00344729], dtype=float32)),\n ('GKL', array([0.00351969], dtype=float32)),\n ('CJ제일제당 우', array([0.00610286], dtype=float32)),\n ('DB금융투자', array([0.00629079], dtype=float32)),\n ('CJ', array([0.00846226], dtype=float32)),\n ('BNK금융지주', array([0.01521381], dtype=float32)),\n ('CJ대한통운', array([0.02271077], dtype=float32)),\n ('GS건설', array([0.03948961], dtype=float32)),\n ('GST', array([0.06135668], dtype=float32)),\n ('CS', array([0.11935968], dtype=float32)),\n ('CSA 코스믹', array([0.12506297], dtype=float32)),\n ('APS홀딩스', array([0.14786719], dtype=float32))]"
     },
     "execution_count": 78,
     "metadata": {},
     "output_type": "execute_result"
    }
   ],
   "source": [
    "dt = {}\n",
    "print([dt.update(l) for l in li ][1])\n",
    "sorted(dt.items(), key=lambda x : x[1])"
   ],
   "metadata": {
    "collapsed": false,
    "pycharm": {
     "name": "#%%\n"
    }
   }
  },
  {
   "cell_type": "code",
   "execution_count": 79,
   "outputs": [
    {
     "name": "stdout",
     "output_type": "stream",
     "text": [
      "['2020-01-01' '2020-01-24' '2020-01-27' '2020-04-15' '2020-04-30'\n",
      " '2020-05-01' '2020-05-05' '2020-09-30' '2020-10-01' '2020-10-02'\n",
      " '2020-10-09' '2020-12-25' '2020-12-31']\n"
     ]
    }
   ],
   "source": [
    "os.chdir('/Users/llewyn/PycharmProjects/stock_analysis/')\n",
    "\n",
    "predict.predict(BATCH_SIZE, TIME_STEPS, 'GS건설', LSTM_UNITS, FEATURES_COUNT, EPOCH, ITERATIONS)\n"
   ],
   "metadata": {
    "collapsed": false,
    "pycharm": {
     "name": "#%%\n"
    }
   }
  },
  {
   "cell_type": "code",
   "execution_count": null,
   "outputs": [],
   "source": [
    "\n"
   ],
   "metadata": {
    "collapsed": false,
    "pycharm": {
     "name": "#%%\n"
    }
   }
  }
 ],
 "metadata": {
  "kernelspec": {
   "name": "pycharm-f277415f",
   "language": "python",
   "display_name": "PyCharm (PycharmProjects)"
  },
  "language_info": {
   "codemirror_mode": {
    "name": "ipython",
    "version": 2
   },
   "file_extension": ".py",
   "mimetype": "text/x-python",
   "name": "python",
   "nbconvert_exporter": "python",
   "pygments_lexer": "ipython2",
   "version": "2.7.6"
  }
 },
 "nbformat": 4,
 "nbformat_minor": 0
}